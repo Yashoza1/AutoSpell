{
 "cells": [
  {
   "cell_type": "code",
   "execution_count": 1,
   "metadata": {
    "id": "6bC0atxqVTLZ"
   },
   "outputs": [],
   "source": [
    "import re\n",
    "import string\n",
    "from collections import Counter\n",
    "import numpy as np"
   ]
  },
  {
   "cell_type": "code",
   "execution_count": 4,
   "metadata": {
    "id": "-Ag0VDMXqEwY"
   },
   "outputs": [],
   "source": [
    "def read_corpus(filename) :\n",
    "  with open(filename ,\"r\") as file:\n",
    "    lines = file.readlines()\n",
    "    words = []\n",
    "\n",
    "    for line in lines:\n",
    "      words+=re.findall(r'\\w+',line.lower())\n",
    "  return words"
   ]
  },
  {
   "cell_type": "code",
   "execution_count": 5,
   "metadata": {
    "colab": {
     "base_uri": "https://localhost:8080/",
     "height": 263
    },
    "id": "cDQO4GTvH6b8",
    "outputId": "da41da67-c5d1-4e01-d870-751a5ffffc95"
   },
   "outputs": [],
   "source": [
    "words = read_corpus(\"./corpus.txt\")"
   ]
  },
  {
   "cell_type": "code",
   "execution_count": 6,
   "metadata": {
    "colab": {
     "base_uri": "https://localhost:8080/"
    },
    "id": "Q99LCd7NIKm4",
    "outputId": "f4f6bf01-3d92-4fca-ad56-179dafc805c9"
   },
   "outputs": [
    {
     "name": "stdout",
     "output_type": "stream",
     "text": [
      "There are 1033894 total words in the corpus.\n"
     ]
    }
   ],
   "source": [
    "print(f\"There are {len(words)} total words in the corpus.\")"
   ]
  },
  {
   "cell_type": "code",
   "execution_count": 7,
   "metadata": {
    "colab": {
     "base_uri": "https://localhost:8080/"
    },
    "id": "6dfo6GccIgYL",
    "outputId": "99377bd0-ad77-4745-caea-e4234c2ca13c"
   },
   "outputs": [
    {
     "name": "stdout",
     "output_type": "stream",
     "text": [
      "There are 42432 total words in the corpus.\n"
     ]
    }
   ],
   "source": [
    "vocabs = set(words)\n",
    "print(f\"There are {len(vocabs)} total words in the corpus.\")"
   ]
  },
  {
   "cell_type": "code",
   "execution_count": 8,
   "metadata": {
    "colab": {
     "base_uri": "https://localhost:8080/"
    },
    "id": "3SkCRg3FLut0",
    "outputId": "b42282b6-6838-4f7b-b067-dcfe21e7ffad"
   },
   "outputs": [
    {
     "name": "stdout",
     "output_type": "stream",
     "text": [
      "68\n"
     ]
    }
   ],
   "source": [
    "word_counts = Counter(words)\n",
    "print(word_counts[\"moon\"])"
   ]
  },
  {
   "cell_type": "code",
   "execution_count": 9,
   "metadata": {
    "id": "BMr58LqRMLwq"
   },
   "outputs": [],
   "source": [
    "total_word_count = float(sum(word_counts.values()))\n",
    "word_probas = {word:word_counts[word] / total_word_count for word in word_counts.keys()}"
   ]
  },
  {
   "cell_type": "code",
   "execution_count": 10,
   "metadata": {
    "colab": {
     "base_uri": "https://localhost:8080/"
    },
    "id": "ERWtCHC5xyUK",
    "outputId": "9430e0ac-a428-492b-8f38-f4d296fd9466"
   },
   "outputs": [
    {
     "name": "stdout",
     "output_type": "stream",
     "text": [
      "6.57707656684341e-05\n"
     ]
    }
   ],
   "source": [
    "print(word_probas[\"moon\"])"
   ]
  },
  {
   "cell_type": "code",
   "execution_count": 11,
   "metadata": {
    "id": "iqKv__gOyIjS"
   },
   "outputs": [],
   "source": [
    "def split(word) :\n",
    "  return [(word[:i] , word[i:]) for i in range(len(word)+1)]"
   ]
  },
  {
   "cell_type": "code",
   "execution_count": 12,
   "metadata": {
    "colab": {
     "base_uri": "https://localhost:8080/"
    },
    "id": "ZZVMIByKyfQK",
    "outputId": "7da9d8ab-8c7e-468b-914f-92a0d4586c41"
   },
   "outputs": [
    {
     "name": "stdout",
     "output_type": "stream",
     "text": [
      "[('', 'moon'), ('m', 'oon'), ('mo', 'on'), ('moo', 'n'), ('moon', '')]\n"
     ]
    }
   ],
   "source": [
    "print(split(\"moon\"))"
   ]
  },
  {
   "cell_type": "code",
   "execution_count": 13,
   "metadata": {
    "id": "pKE37k5Nyj5x"
   },
   "outputs": [],
   "source": [
    "def delete(word) :\n",
    "  return [l+r[1:] for l,r in split(word) if r]"
   ]
  },
  {
   "cell_type": "code",
   "execution_count": 14,
   "metadata": {
    "colab": {
     "base_uri": "https://localhost:8080/"
    },
    "id": "5bfzsCH8zPVF",
    "outputId": "56137b96-23fb-41b5-bfc2-9cfc67870943"
   },
   "outputs": [
    {
     "name": "stdout",
     "output_type": "stream",
     "text": [
      "['oon', 'mon', 'mon', 'moo']\n"
     ]
    }
   ],
   "source": [
    "print(delete(\"moon\"))"
   ]
  },
  {
   "cell_type": "code",
   "execution_count": 15,
   "metadata": {
    "id": "B3lNU96jzVDR"
   },
   "outputs": [],
   "source": [
    "def swap(word) :\n",
    "  return [l + r[1] + r[0] + r[2:] for l,r in split(word) if len(r)>1]"
   ]
  },
  {
   "cell_type": "code",
   "execution_count": 16,
   "metadata": {
    "colab": {
     "base_uri": "https://localhost:8080/"
    },
    "id": "9Z6P5h2c0Y4d",
    "outputId": "5138e7a0-1df2-4abe-bc0c-f07ebeef7128"
   },
   "outputs": [
    {
     "name": "stdout",
     "output_type": "stream",
     "text": [
      "['omon', 'moon', 'mono']\n"
     ]
    }
   ],
   "source": [
    "print(swap(\"moon\"))"
   ]
  },
  {
   "cell_type": "code",
   "execution_count": 17,
   "metadata": {
    "colab": {
     "base_uri": "https://localhost:8080/",
     "height": 35
    },
    "id": "u-IX-ysW0_6l",
    "outputId": "1dd7010b-fa7b-4706-b216-550f0ea286c1"
   },
   "outputs": [
    {
     "data": {
      "text/plain": [
       "'abcdefghijklmnopqrstuvwxyz'"
      ]
     },
     "execution_count": 17,
     "metadata": {},
     "output_type": "execute_result"
    }
   ],
   "source": [
    "string.ascii_lowercase"
   ]
  },
  {
   "cell_type": "code",
   "execution_count": 18,
   "metadata": {
    "id": "-8MG0oqE1LF4"
   },
   "outputs": [],
   "source": [
    "def replace(word):\n",
    "  letters = string.ascii_lowercase\n",
    "  return [l + c + r[1:] for l,r in split(word) if r for c in letters]"
   ]
  },
  {
   "cell_type": "code",
   "execution_count": 19,
   "metadata": {
    "colab": {
     "base_uri": "https://localhost:8080/"
    },
    "id": "KCaxwQHH1mFC",
    "outputId": "72c46cc2-1af5-4aeb-8648-54280c6d55b2"
   },
   "outputs": [
    {
     "name": "stdout",
     "output_type": "stream",
     "text": [
      "['aoon', 'boon', 'coon', 'doon', 'eoon', 'foon', 'goon', 'hoon', 'ioon', 'joon', 'koon', 'loon', 'moon', 'noon', 'ooon', 'poon', 'qoon', 'roon', 'soon', 'toon', 'uoon', 'voon', 'woon', 'xoon', 'yoon', 'zoon', 'maon', 'mbon', 'mcon', 'mdon', 'meon', 'mfon', 'mgon', 'mhon', 'mion', 'mjon', 'mkon', 'mlon', 'mmon', 'mnon', 'moon', 'mpon', 'mqon', 'mron', 'mson', 'mton', 'muon', 'mvon', 'mwon', 'mxon', 'myon', 'mzon', 'moan', 'mobn', 'mocn', 'modn', 'moen', 'mofn', 'mogn', 'mohn', 'moin', 'mojn', 'mokn', 'moln', 'momn', 'monn', 'moon', 'mopn', 'moqn', 'morn', 'mosn', 'motn', 'moun', 'movn', 'mown', 'moxn', 'moyn', 'mozn', 'mooa', 'moob', 'mooc', 'mood', 'mooe', 'moof', 'moog', 'mooh', 'mooi', 'mooj', 'mook', 'mool', 'moom', 'moon', 'mooo', 'moop', 'mooq', 'moor', 'moos', 'moot', 'moou', 'moov', 'moow', 'moox', 'mooy', 'mooz']\n"
     ]
    }
   ],
   "source": [
    "print(replace(\"moon\"))"
   ]
  },
  {
   "cell_type": "code",
   "execution_count": 20,
   "metadata": {
    "id": "1v9jj51w1uQT"
   },
   "outputs": [],
   "source": [
    "def insert(word) :\n",
    "  letters = string.ascii_lowercase\n",
    "  return [l + c + r for l,r in split(word) for c in letters]"
   ]
  },
  {
   "cell_type": "code",
   "execution_count": 21,
   "metadata": {
    "colab": {
     "base_uri": "https://localhost:8080/"
    },
    "id": "ZvAWifGI2HcB",
    "outputId": "4672a438-b0c4-4bd8-95a8-cc9ec03c2e3a"
   },
   "outputs": [
    {
     "name": "stdout",
     "output_type": "stream",
     "text": [
      "['amoon', 'bmoon', 'cmoon', 'dmoon', 'emoon', 'fmoon', 'gmoon', 'hmoon', 'imoon', 'jmoon', 'kmoon', 'lmoon', 'mmoon', 'nmoon', 'omoon', 'pmoon', 'qmoon', 'rmoon', 'smoon', 'tmoon', 'umoon', 'vmoon', 'wmoon', 'xmoon', 'ymoon', 'zmoon', 'maoon', 'mboon', 'mcoon', 'mdoon', 'meoon', 'mfoon', 'mgoon', 'mhoon', 'mioon', 'mjoon', 'mkoon', 'mloon', 'mmoon', 'mnoon', 'mooon', 'mpoon', 'mqoon', 'mroon', 'msoon', 'mtoon', 'muoon', 'mvoon', 'mwoon', 'mxoon', 'myoon', 'mzoon', 'moaon', 'mobon', 'mocon', 'modon', 'moeon', 'mofon', 'mogon', 'mohon', 'moion', 'mojon', 'mokon', 'molon', 'momon', 'monon', 'mooon', 'mopon', 'moqon', 'moron', 'moson', 'moton', 'mouon', 'movon', 'mowon', 'moxon', 'moyon', 'mozon', 'mooan', 'moobn', 'moocn', 'moodn', 'mooen', 'moofn', 'moogn', 'moohn', 'mooin', 'moojn', 'mookn', 'mooln', 'moomn', 'moonn', 'mooon', 'moopn', 'mooqn', 'moorn', 'moosn', 'mootn', 'mooun', 'moovn', 'moown', 'mooxn', 'mooyn', 'moozn', 'moona', 'moonb', 'moonc', 'moond', 'moone', 'moonf', 'moong', 'moonh', 'mooni', 'moonj', 'moonk', 'moonl', 'moonm', 'moonn', 'moono', 'moonp', 'moonq', 'moonr', 'moons', 'moont', 'moonu', 'moonv', 'moonw', 'moonx', 'moony', 'moonz']\n"
     ]
    }
   ],
   "source": [
    "print(insert(\"moon\"))"
   ]
  },
  {
   "cell_type": "code",
   "execution_count": 22,
   "metadata": {
    "id": "y0PoLdCq2nW_"
   },
   "outputs": [],
   "source": [
    "def edit1(word) :\n",
    "  return set (delete(word) + replace(word) + insert(word) + delete(word))"
   ]
  },
  {
   "cell_type": "code",
   "execution_count": 23,
   "metadata": {
    "colab": {
     "base_uri": "https://localhost:8080/"
    },
    "id": "56-zuYLL26hD",
    "outputId": "c1103592-6af9-4448-e647-2db467ab1ae3"
   },
   "outputs": [
    {
     "name": "stdout",
     "output_type": "stream",
     "text": [
      "{'mkon', 'mown', 'tmoon', 'nmoon', 'mgon', 'doon', 'modon', 'monon', 'hmoon', 'mooc', 'mhon', 'eoon', 'mojon', 'mocn', 'motn', 'imoon', 'mqon', 'loon', 'moov', 'moqn', 'mvoon', 'mofn', 'moocn', 'kmoon', 'mooy', 'mood', 'moosn', 'roon', 'mlon', 'mooa', 'moonm', 'mool', 'mson', 'rmoon', 'moo', 'meoon', 'moovn', 'moong', 'moaon', 'maon', 'mgoon', 'mokon', 'moobn', 'pmoon', 'molon', 'mofon', 'moozn', 'meon', 'woon', 'mooe', 'moson', 'mloon', 'moopn', 'mpoon', 'moonb', 'mmoon', 'moofn', 'mozon', 'mfon', 'mooyn', 'mook', 'moun', 'mooni', 'coon', 'mkoon', 'mooqn', 'mooz', 'mdoon', 'mion', 'smoon', 'hoon', 'mooln', 'ioon', 'moyn', 'mojn', 'moos', 'mdon', 'moqon', 'moony', 'msoon', 'myoon', 'qoon', 'moona', 'mon', 'oon', 'mnoon', 'mooj', 'moonl', 'maoon', 'mcoon', 'wmoon', 'jmoon', 'xoon', 'poon', 'omoon', 'moomn', 'moodn', 'moonv', 'muoon', 'moogn', 'mooh', 'muon', 'toon', 'moou', 'movon', 'mqoon', 'moonh', 'moop', 'moton', 'moonz', 'lmoon', 'moonf', 'mpon', 'momn', 'moow', 'moion', 'vmoon', 'ymoon', 'mohn', 'moog', 'mooi', 'mtoon', 'emoon', 'joon', 'mooo', 'mootn', 'moron', 'mxon', 'moan', 'mohon', 'mogon', 'moonp', 'goon', 'moot', 'mozn', 'umoon', 'mobn', 'moond', 'fmoon', 'moin', 'amoon', 'mroon', 'moonk', 'mopon', 'moonx', 'mioon', 'boon', 'mouon', 'mooan', 'mooin', 'gmoon', 'moonn', 'mzoon', 'yoon', 'qmoon', 'aoon', 'morn', 'xmoon', 'moon', 'moonq', 'moof', 'foon', 'bmoon', 'mooon', 'uoon', 'mron', 'mjoon', 'mhoon', 'dmoon', 'moob', 'moor', 'zmoon', 'mosn', 'moeon', 'modn', 'mooun', 'mboon', 'cmoon', 'mxoon', 'myon', 'mbon', 'moonw', 'mton', 'mowon', 'zoon', 'moyon', 'moohn', 'moono', 'mnon', 'moone', 'mogn', 'moonc', 'mfoon', 'mwon', 'moorn', 'moonj', 'mjon', 'moown', 'ooon', 'momon', 'mokn', 'mooen', 'noon', 'moojn', 'mzon', 'mvon', 'moonr', 'mcon', 'moont', 'movn', 'moxn', 'mmon', 'mopn', 'moons', 'moonu', 'soon', 'mookn', 'monn', 'moom', 'voon', 'mooxn', 'moox', 'mocon', 'moxon', 'koon', 'moen', 'mooq', 'mwoon', 'mobon', 'moln'}\n"
     ]
    }
   ],
   "source": [
    "print(edit1(\"moon\"))"
   ]
  },
  {
   "cell_type": "code",
   "execution_count": 24,
   "metadata": {
    "id": "oVK9kUV62-kA"
   },
   "outputs": [],
   "source": [
    "def edit2(word) :\n",
    "  return set(e2 for e1  in edit1(word) for e2 in edit1(e1))"
   ]
  },
  {
   "cell_type": "code",
   "execution_count": 25,
   "metadata": {
    "id": "wTzfOhHA7QYA"
   },
   "outputs": [],
   "source": [
    "def correct_spelling(word, vocabulary, word_probabilities):\n",
    "  if word in vocabulary:\n",
    "    print(f\"{word} is already correctly spelt\")\n",
    "    return\n",
    "\n",
    "  suggestions = edit1(word) or edit2(word) or [word]\n",
    "  best_guesses = [w for w in suggestions if w in vocabulary]\n",
    "  return [(w, word_probabilities[w]) for w in best_guesses]"
   ]
  },
  {
   "cell_type": "code",
   "execution_count": 26,
   "metadata": {
    "id": "kIOLsts28gRb"
   },
   "outputs": [],
   "source": [
    "def check(self, word):\n",
    "    candidates = self._level_one_edits(word) or self._level_two_edits(word) or [word]\n",
    "    valid_candidates = [w for w in candidates if w in self.vocabs]\n",
    "    return sorted([(c, self.word_probas[c]) for c in valid_candidates], key=lambda tup: tup[1], reverse=True)"
   ]
  },
  {
   "cell_type": "code",
   "execution_count": 27,
   "metadata": {
    "id": "NVlZSLFEw5_p"
   },
   "outputs": [],
   "source": [
    "class SpellChecker(object):\n",
    "\n",
    "  def __init__(self, corpus_file_path):\n",
    "    with open(corpus_file_path, \"r\") as file:\n",
    "      lines = file.readlines()\n",
    "      words = []\n",
    "      for line in lines:\n",
    "        words += re.findall(r'\\w+', line.lower())\n",
    "\n",
    "    self.vocabs = set(words)\n",
    "    self.word_counts = Counter(words)\n",
    "    total_words = float(sum(self.word_counts.values()))\n",
    "    self.word_probas = {word: self.word_counts[word] / total_words for word in self.vocabs}\n",
    "\n",
    "  def _level_one_edits(self, word):\n",
    "    letters = string.ascii_lowercase\n",
    "    splits = [(word[:i], word[i:]) for i in range(len(word) + 1)]\n",
    "    deletes = [l + r[1:] for l,r in splits if r]\n",
    "    swaps = [l + r[1] + r[0] + r[2:] for l, r in splits if len(r)>1]\n",
    "    replaces = [l + c + r[1:] for l, r in splits if r for c in letters]\n",
    "    inserts = [l + c + r for l, r in splits for c in letters]\n",
    "\n",
    "    return set(deletes + swaps + replaces + inserts)\n",
    "\n",
    "  def _level_two_edits(self, word):\n",
    "    return set(e2 for e1 in self._level_one_edits(word) for e2 in self._level_one_edits(e1))\n",
    "\n",
    "  def check(self, word):\n",
    "    candidates = self._level_one_edits(word) or self._level_two_edits(word) or [word]\n",
    "    valid_candidates = [w for w in candidates if w in self.vocabs]\n",
    "    return sorted([(c, self.word_probas[c]) for c in valid_candidates], key=lambda tup: tup[1], reverse=True)\n",
    "    corrections = correct_spelling(word, vocabs, word_probas)\n",
    "\n",
    "    if corrections:\n",
    "       print(corrections)\n",
    "       probs = np.array([c[1] for c in corrections])\n",
    "       best_ix = np.argmax(probs)\n",
    "       correct = corrections[best_ix][0]\n",
    "       print(f\"{correct} is suggested for {word}\")\n"
   ]
  },
  {
   "cell_type": "code",
   "execution_count": 28,
   "metadata": {
    "id": "LS6jlFHS9YLt"
   },
   "outputs": [],
   "source": [
    "checker =  SpellChecker(\"./corpus.txt\")"
   ]
  },
  {
   "cell_type": "code",
   "execution_count": 29,
   "metadata": {
    "colab": {
     "base_uri": "https://localhost:8080/",
     "height": 281,
     "referenced_widgets": [
      "3d21f662ac00466fa1d0c1c371bf4bc4",
      "4b6c6165871e4001805106287df02878",
      "3e5817fcc1554903b3fd88769f0d36f5",
      "5ab8f4436c874e7cb24b32300d4af96c",
      "d14003e767564796b2387ec063bab3a3",
      "3a7ca63dded148d2a73857f1460d86a0",
      "063ca058574849589ef2747666f27ad3",
      "bb25c44222d44cf5893dc944ba62db01",
      "37548727ceb446ffb3c06602b5c27edb",
      "c573b4a0a91a439e917dd52a4d00e487",
      "e345345d6c8241949c28de7e46fc7868",
      "a180978300574e9ca6ffaf18696d0161"
     ]
    },
    "id": "LtB_a7c0kcAA",
    "outputId": "3eb2b894-807b-4324-df29-a13f85dc7c79"
   },
   "outputs": [
    {
     "data": {
      "application/vnd.jupyter.widget-view+json": {
       "model_id": "2c6b0388a3834403877e6f022089a07e",
       "version_major": 2,
       "version_minor": 0
      },
      "text/plain": [
       "VBox(children=(HBox(children=(Label(value='Enter a word:', layout=Layout(width='100px')), Text(value='', descr…"
      ]
     },
     "metadata": {},
     "output_type": "display_data"
    }
   ],
   "source": [
    "import re\n",
    "import string\n",
    "from collections import Counter\n",
    "import ipywidgets as widgets\n",
    "from IPython.display import display, clear_output\n",
    "\n",
    "class SpellChecker(object):\n",
    "\n",
    "    def __init__(self, corpus_file_path):\n",
    "        with open(corpus_file_path, \"r\") as file:\n",
    "            lines = file.readlines()\n",
    "            words = []\n",
    "            for line in lines:\n",
    "                words += re.findall(r'\\w+', line.lower())\n",
    "\n",
    "        self.vocabs = set(words)\n",
    "        self.word_counts = Counter(words)\n",
    "\n",
    "    def _level_one_edits(self, word):\n",
    "        letters = string.ascii_lowercase\n",
    "        splits = [(word[:i], word[i:]) for i in range(len(word) + 1)]\n",
    "        deletes = [l + r[1:] for l,r in splits if r]\n",
    "        swaps = [l + r[1] + r[0] + r[2:] for l, r in splits if len(r)>1]\n",
    "        replaces = [l + c + r[1:] for l, r in splits if r for c in letters]\n",
    "        inserts = [l + c + r for l, r in splits for c in letters]\n",
    "\n",
    "        return set(deletes + swaps + replaces + inserts)\n",
    "\n",
    "    def _level_two_edits(self, word):\n",
    "        return set(e2 for e1 in self._level_one_edits(word) for e2 in self._level_one_edits(e1))\n",
    "\n",
    "    def check(self, word):\n",
    "        candidates = self._level_one_edits(word) or self._level_two_edits(word) or [word]\n",
    "        valid_candidates = [w for w in candidates if w in self.vocabs]\n",
    "        return sorted(valid_candidates, key=lambda w: self.word_counts[w], reverse=True)\n",
    "\n",
    "def handle_submit(sender):\n",
    "    word = text.value.strip().lower()\n",
    "    corrections = spell_checker.check(word)\n",
    "    if corrections:\n",
    "        with output:\n",
    "            clear_output()\n",
    "            print(\"Did you mean:\")\n",
    "            for suggestion in corrections[:5]:\n",
    "                print(suggestion.capitalize())\n",
    "\n",
    "spell_checker = SpellChecker(\"corpus.txt\")\n",
    "\n",
    "text = widgets.Text(\n",
    "    value='',\n",
    "    placeholder='Type a word',\n",
    "    description='Word:',\n",
    "    disabled=False,\n",
    "    layout=widgets.Layout(width='300px')\n",
    ")\n",
    "\n",
    "text.on_submit(handle_submit)\n",
    "\n",
    "output = widgets.Output()\n",
    "\n",
    "text_box = widgets.HBox([widgets.Label(\"Enter a word:\", layout=widgets.Layout(width='100px')), text])\n",
    "text_box.layout.align_items = 'center'\n",
    "text_box.layout.padding = '10px'\n",
    "\n",
    "output.layout.padding = '10px'\n",
    "output.layout.border = '2px solid #1E90FF'\n",
    "output.layout.border_radius = '5px'\n",
    "\n",
    "display(widgets.VBox([text_box, output], layout=widgets.Layout(justify_content='center', align_items='center', margin='20px', padding='20px', border='2px solid #1E90FF', border_radius='10px')))\n",
    "\n"
   ]
  },
  {
   "cell_type": "code",
   "execution_count": 30,
   "metadata": {
    "colab": {
     "base_uri": "https://localhost:8080/"
    },
    "id": "sKhv_eY79cJB",
    "outputId": "665c136f-b430-43a3-e97a-a07e8b966c78"
   },
   "outputs": [
    {
     "data": {
      "text/plain": [
       "[('said', 0.0018967128158205774),\n",
       " ('same', 0.0006635109595374381),\n",
       " ('sam', 8.027902280117692e-05),\n",
       " ('sad', 3.38525999763999e-05),\n",
       " ('sand', 2.8049297123302777e-05),\n",
       " ('saud', 1.9344342843657085e-06)]"
      ]
     },
     "execution_count": 30,
     "metadata": {},
     "output_type": "execute_result"
    }
   ],
   "source": [
    "checker.check(\"samd\")"
   ]
  },
  {
   "cell_type": "code",
   "execution_count": null,
   "metadata": {},
   "outputs": [],
   "source": []
  }
 ],
 "metadata": {
  "colab": {
   "provenance": []
  },
  "kernelspec": {
   "display_name": "Python 3",
   "language": "python",
   "name": "python3"
  },
  "language_info": {
   "codemirror_mode": {
    "name": "ipython",
    "version": 3
   },
   "file_extension": ".py",
   "mimetype": "text/x-python",
   "name": "python",
   "nbconvert_exporter": "python",
   "pygments_lexer": "ipython3",
   "version": "3.8.8"
  },
  "widgets": {
   "application/vnd.jupyter.widget-state+json": {
    "063ca058574849589ef2747666f27ad3": {
     "model_module": "@jupyter-widgets/base",
     "model_module_version": "1.2.0",
     "model_name": "LayoutModel",
     "state": {
      "_model_module": "@jupyter-widgets/base",
      "_model_module_version": "1.2.0",
      "_model_name": "LayoutModel",
      "_view_count": null,
      "_view_module": "@jupyter-widgets/base",
      "_view_module_version": "1.2.0",
      "_view_name": "LayoutView",
      "align_content": null,
      "align_items": "center",
      "align_self": null,
      "border": null,
      "bottom": null,
      "display": null,
      "flex": null,
      "flex_flow": null,
      "grid_area": null,
      "grid_auto_columns": null,
      "grid_auto_flow": null,
      "grid_auto_rows": null,
      "grid_column": null,
      "grid_gap": null,
      "grid_row": null,
      "grid_template_areas": null,
      "grid_template_columns": null,
      "grid_template_rows": null,
      "height": null,
      "justify_content": null,
      "justify_items": null,
      "left": null,
      "margin": null,
      "max_height": null,
      "max_width": null,
      "min_height": null,
      "min_width": null,
      "object_fit": null,
      "object_position": null,
      "order": null,
      "overflow": null,
      "overflow_x": null,
      "overflow_y": null,
      "padding": "10px",
      "right": null,
      "top": null,
      "visibility": null,
      "width": null
     }
    },
    "37548727ceb446ffb3c06602b5c27edb": {
     "model_module": "@jupyter-widgets/controls",
     "model_module_version": "1.5.0",
     "model_name": "DescriptionStyleModel",
     "state": {
      "_model_module": "@jupyter-widgets/controls",
      "_model_module_version": "1.5.0",
      "_model_name": "DescriptionStyleModel",
      "_view_count": null,
      "_view_module": "@jupyter-widgets/base",
      "_view_module_version": "1.2.0",
      "_view_name": "StyleView",
      "description_width": ""
     }
    },
    "3a7ca63dded148d2a73857f1460d86a0": {
     "model_module": "@jupyter-widgets/controls",
     "model_module_version": "1.5.0",
     "model_name": "TextModel",
     "state": {
      "_dom_classes": [],
      "_model_module": "@jupyter-widgets/controls",
      "_model_module_version": "1.5.0",
      "_model_name": "TextModel",
      "_view_count": null,
      "_view_module": "@jupyter-widgets/controls",
      "_view_module_version": "1.5.0",
      "_view_name": "TextView",
      "continuous_update": true,
      "description": "Word:",
      "description_tooltip": null,
      "disabled": false,
      "layout": "IPY_MODEL_c573b4a0a91a439e917dd52a4d00e487",
      "placeholder": "Type a word",
      "style": "IPY_MODEL_e345345d6c8241949c28de7e46fc7868",
      "value": "samd"
     }
    },
    "3d21f662ac00466fa1d0c1c371bf4bc4": {
     "model_module": "@jupyter-widgets/controls",
     "model_module_version": "1.5.0",
     "model_name": "VBoxModel",
     "state": {
      "_dom_classes": [],
      "_model_module": "@jupyter-widgets/controls",
      "_model_module_version": "1.5.0",
      "_model_name": "VBoxModel",
      "_view_count": null,
      "_view_module": "@jupyter-widgets/controls",
      "_view_module_version": "1.5.0",
      "_view_name": "VBoxView",
      "box_style": "",
      "children": [
       "IPY_MODEL_4b6c6165871e4001805106287df02878",
       "IPY_MODEL_3e5817fcc1554903b3fd88769f0d36f5"
      ],
      "layout": "IPY_MODEL_5ab8f4436c874e7cb24b32300d4af96c"
     }
    },
    "3e5817fcc1554903b3fd88769f0d36f5": {
     "model_module": "@jupyter-widgets/output",
     "model_module_version": "1.0.0",
     "model_name": "OutputModel",
     "state": {
      "_dom_classes": [],
      "_model_module": "@jupyter-widgets/output",
      "_model_module_version": "1.0.0",
      "_model_name": "OutputModel",
      "_view_count": null,
      "_view_module": "@jupyter-widgets/output",
      "_view_module_version": "1.0.0",
      "_view_name": "OutputView",
      "layout": "IPY_MODEL_a180978300574e9ca6ffaf18696d0161",
      "msg_id": "",
      "outputs": [
       {
        "name": "stdout",
        "output_type": "stream",
        "text": [
         "Did you mean:\n",
         "Said\n",
         "Same\n",
         "Sam\n",
         "Sad\n",
         "Sand\n"
        ]
       }
      ]
     }
    },
    "4b6c6165871e4001805106287df02878": {
     "model_module": "@jupyter-widgets/controls",
     "model_module_version": "1.5.0",
     "model_name": "HBoxModel",
     "state": {
      "_dom_classes": [],
      "_model_module": "@jupyter-widgets/controls",
      "_model_module_version": "1.5.0",
      "_model_name": "HBoxModel",
      "_view_count": null,
      "_view_module": "@jupyter-widgets/controls",
      "_view_module_version": "1.5.0",
      "_view_name": "HBoxView",
      "box_style": "",
      "children": [
       "IPY_MODEL_d14003e767564796b2387ec063bab3a3",
       "IPY_MODEL_3a7ca63dded148d2a73857f1460d86a0"
      ],
      "layout": "IPY_MODEL_063ca058574849589ef2747666f27ad3"
     }
    },
    "5ab8f4436c874e7cb24b32300d4af96c": {
     "model_module": "@jupyter-widgets/base",
     "model_module_version": "1.2.0",
     "model_name": "LayoutModel",
     "state": {
      "_model_module": "@jupyter-widgets/base",
      "_model_module_version": "1.2.0",
      "_model_name": "LayoutModel",
      "_view_count": null,
      "_view_module": "@jupyter-widgets/base",
      "_view_module_version": "1.2.0",
      "_view_name": "LayoutView",
      "align_content": null,
      "align_items": "center",
      "align_self": null,
      "border": "2px solid #1E90FF",
      "bottom": null,
      "display": null,
      "flex": null,
      "flex_flow": null,
      "grid_area": null,
      "grid_auto_columns": null,
      "grid_auto_flow": null,
      "grid_auto_rows": null,
      "grid_column": null,
      "grid_gap": null,
      "grid_row": null,
      "grid_template_areas": null,
      "grid_template_columns": null,
      "grid_template_rows": null,
      "height": null,
      "justify_content": "center",
      "justify_items": null,
      "left": null,
      "margin": "20px",
      "max_height": null,
      "max_width": null,
      "min_height": null,
      "min_width": null,
      "object_fit": null,
      "object_position": null,
      "order": null,
      "overflow": null,
      "overflow_x": null,
      "overflow_y": null,
      "padding": "20px",
      "right": null,
      "top": null,
      "visibility": null,
      "width": null
     }
    },
    "a180978300574e9ca6ffaf18696d0161": {
     "model_module": "@jupyter-widgets/base",
     "model_module_version": "1.2.0",
     "model_name": "LayoutModel",
     "state": {
      "_model_module": "@jupyter-widgets/base",
      "_model_module_version": "1.2.0",
      "_model_name": "LayoutModel",
      "_view_count": null,
      "_view_module": "@jupyter-widgets/base",
      "_view_module_version": "1.2.0",
      "_view_name": "LayoutView",
      "align_content": null,
      "align_items": null,
      "align_self": null,
      "border": "2px solid #1E90FF",
      "bottom": null,
      "display": null,
      "flex": null,
      "flex_flow": null,
      "grid_area": null,
      "grid_auto_columns": null,
      "grid_auto_flow": null,
      "grid_auto_rows": null,
      "grid_column": null,
      "grid_gap": null,
      "grid_row": null,
      "grid_template_areas": null,
      "grid_template_columns": null,
      "grid_template_rows": null,
      "height": null,
      "justify_content": null,
      "justify_items": null,
      "left": null,
      "margin": null,
      "max_height": null,
      "max_width": null,
      "min_height": null,
      "min_width": null,
      "object_fit": null,
      "object_position": null,
      "order": null,
      "overflow": null,
      "overflow_x": null,
      "overflow_y": null,
      "padding": "10px",
      "right": null,
      "top": null,
      "visibility": null,
      "width": null
     }
    },
    "bb25c44222d44cf5893dc944ba62db01": {
     "model_module": "@jupyter-widgets/base",
     "model_module_version": "1.2.0",
     "model_name": "LayoutModel",
     "state": {
      "_model_module": "@jupyter-widgets/base",
      "_model_module_version": "1.2.0",
      "_model_name": "LayoutModel",
      "_view_count": null,
      "_view_module": "@jupyter-widgets/base",
      "_view_module_version": "1.2.0",
      "_view_name": "LayoutView",
      "align_content": null,
      "align_items": null,
      "align_self": null,
      "border": null,
      "bottom": null,
      "display": null,
      "flex": null,
      "flex_flow": null,
      "grid_area": null,
      "grid_auto_columns": null,
      "grid_auto_flow": null,
      "grid_auto_rows": null,
      "grid_column": null,
      "grid_gap": null,
      "grid_row": null,
      "grid_template_areas": null,
      "grid_template_columns": null,
      "grid_template_rows": null,
      "height": null,
      "justify_content": null,
      "justify_items": null,
      "left": null,
      "margin": null,
      "max_height": null,
      "max_width": null,
      "min_height": null,
      "min_width": null,
      "object_fit": null,
      "object_position": null,
      "order": null,
      "overflow": null,
      "overflow_x": null,
      "overflow_y": null,
      "padding": null,
      "right": null,
      "top": null,
      "visibility": null,
      "width": "100px"
     }
    },
    "c573b4a0a91a439e917dd52a4d00e487": {
     "model_module": "@jupyter-widgets/base",
     "model_module_version": "1.2.0",
     "model_name": "LayoutModel",
     "state": {
      "_model_module": "@jupyter-widgets/base",
      "_model_module_version": "1.2.0",
      "_model_name": "LayoutModel",
      "_view_count": null,
      "_view_module": "@jupyter-widgets/base",
      "_view_module_version": "1.2.0",
      "_view_name": "LayoutView",
      "align_content": null,
      "align_items": null,
      "align_self": null,
      "border": null,
      "bottom": null,
      "display": null,
      "flex": null,
      "flex_flow": null,
      "grid_area": null,
      "grid_auto_columns": null,
      "grid_auto_flow": null,
      "grid_auto_rows": null,
      "grid_column": null,
      "grid_gap": null,
      "grid_row": null,
      "grid_template_areas": null,
      "grid_template_columns": null,
      "grid_template_rows": null,
      "height": null,
      "justify_content": null,
      "justify_items": null,
      "left": null,
      "margin": null,
      "max_height": null,
      "max_width": null,
      "min_height": null,
      "min_width": null,
      "object_fit": null,
      "object_position": null,
      "order": null,
      "overflow": null,
      "overflow_x": null,
      "overflow_y": null,
      "padding": null,
      "right": null,
      "top": null,
      "visibility": null,
      "width": "300px"
     }
    },
    "d14003e767564796b2387ec063bab3a3": {
     "model_module": "@jupyter-widgets/controls",
     "model_module_version": "1.5.0",
     "model_name": "LabelModel",
     "state": {
      "_dom_classes": [],
      "_model_module": "@jupyter-widgets/controls",
      "_model_module_version": "1.5.0",
      "_model_name": "LabelModel",
      "_view_count": null,
      "_view_module": "@jupyter-widgets/controls",
      "_view_module_version": "1.5.0",
      "_view_name": "LabelView",
      "description": "",
      "description_tooltip": null,
      "layout": "IPY_MODEL_bb25c44222d44cf5893dc944ba62db01",
      "placeholder": "​",
      "style": "IPY_MODEL_37548727ceb446ffb3c06602b5c27edb",
      "value": "Enter a word:"
     }
    },
    "e345345d6c8241949c28de7e46fc7868": {
     "model_module": "@jupyter-widgets/controls",
     "model_module_version": "1.5.0",
     "model_name": "DescriptionStyleModel",
     "state": {
      "_model_module": "@jupyter-widgets/controls",
      "_model_module_version": "1.5.0",
      "_model_name": "DescriptionStyleModel",
      "_view_count": null,
      "_view_module": "@jupyter-widgets/base",
      "_view_module_version": "1.2.0",
      "_view_name": "StyleView",
      "description_width": ""
     }
    }
   }
  }
 },
 "nbformat": 4,
 "nbformat_minor": 1
}
